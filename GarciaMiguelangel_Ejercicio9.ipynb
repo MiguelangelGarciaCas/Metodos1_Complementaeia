{
 "cells": [
  {
   "cell_type": "markdown",
   "id": "Ca47pvrzRXMy",
   "metadata": {
    "id": "Ca47pvrzRXMy"
   },
   "source": [
    "## Librerias"
   ]
  },
  {
   "cell_type": "code",
   "execution_count": 2,
   "id": "6f64d18c-e6fe-4328-a15d-9344842eabd1",
   "metadata": {
    "id": "6f64d18c-e6fe-4328-a15d-9344842eabd1"
   },
   "outputs": [],
   "source": [
    "import numpy as np\n",
    "import matplotlib.pyplot as plt"
   ]
  },
  {
   "cell_type": "markdown",
   "id": "XkEKN8o3Lu0o",
   "metadata": {
    "id": "XkEKN8o3Lu0o"
   },
   "source": [
    "## Problema\n",
    "\n",
    "Para el siguiente problema se puede guiar del siguiente notebook [gradiente descendiente](https://github.com/diegour1/CompMetodosComputacionales/blob/main/Notebooks/08%20-%20Gradient_Descent_Neural_Networks.ipynb)\n",
    "\n",
    "Considere el potencial electrico entre dos cargas de la misma magnitud pero de signo opuesto medido en la posición $\\vec{r}$ desde el centro de coordenadas dado por,\n",
    "\n",
    "$$ V(\\vec{r}) = \\frac{q}{4\\pi \\epsilon_0}\\Bigg[\\frac{1}{|\\vec{r}-\\vec{r_+}|}-\\frac{1}{|\\vec{r}-\\vec{r_-}|}\\Bigg], $$\n",
    "\n",
    "donde $\\vec{r_+}$, y $\\vec{r_-}$, son las posiciones de las cargas positivas y negativas respectivamente. En este ejercicio solamente nos vamos a enfocar en las dimensiones $x$ y $y$.\n",
    "\n",
    "Dados los siguientes parametros, \n",
    "\n",
    "$$\\vec{r_+} = (-0.25\\text{ m}, 0), \\quad \\vec{r_-} = (0.25\\text{ m}, 0), \\quad \\frac{q}{4\\pi \\epsilon_0} = 1, $$\n",
    "\n",
    "y que el campo electrico está dado por, \n",
    "\n",
    "$$\\vec{E}(\\vec{r}) = -\\vec{\\nabla} V(\\vec{r}),$$"
   ]
  },
  {
   "cell_type": "markdown",
   "id": "vi77WfbpMLnB",
   "metadata": {
    "id": "vi77WfbpMLnB"
   },
   "source": [
    "a) Escriba la función potencial en términos de $x$ y $y$ e imprima los valores del potencial en el punto $(x, y) = (0, 0)$ y $(x, y) = (0.1, 0)$, $(x, y) = (-0.15, 0.12)$."
   ]
  },
  {
   "cell_type": "code",
   "execution_count": 3,
   "id": "wNVvdgkBLwA5",
   "metadata": {
    "colab": {
     "base_uri": "https://localhost:8080/"
    },
    "id": "wNVvdgkBLwA5",
    "outputId": "bce891b8-7048-4a95-b185-16fa53e712f1"
   },
   "outputs": [
    {
     "data": {
      "text/plain": [
       "(0.0, -3.8095238095238098, 4.007278283591919)"
      ]
     },
     "execution_count": 3,
     "metadata": {},
     "output_type": "execute_result"
    }
   ],
   "source": [
    "def Potential(x, y):\n",
    "    ## tu código aquí\n",
    "    r_mas=np.array([0.25,0])\n",
    "    r_menos=np.array([-0.25,0])\n",
    "    r=np.array([x,y])\n",
    "    funcion= 1/(np.linalg.norm(r-r_menos))-1/(np.linalg.norm(r-r_mas))\n",
    "    return funcion \n",
    "# codigo para verificar su resultado no modificar\n",
    "Potential(0, 0), Potential(0.1, 0), Potential(-0.15, 0.12)"
   ]
  },
  {
   "cell_type": "markdown",
   "id": "Twn0pdu1N7kg",
   "metadata": {
    "id": "Twn0pdu1N7kg"
   },
   "source": [
    "b) Calcule la gradiente del potencial, con la formula de derivada central."
   ]
  },
  {
   "cell_type": "code",
   "execution_count": 10,
   "id": "dwchzjJ-M7JO",
   "metadata": {
    "colab": {
     "base_uri": "https://localhost:8080/"
    },
    "id": "dwchzjJ-M7JO",
    "outputId": "00abafc9-f665-44d7-bff2-ffcd7796c0c1"
   },
   "outputs": [
    {
     "data": {
      "text/plain": [
       "(array([-32.00000512,   0.        ]),\n",
       " array([-45.86693986,  11.5177336 ]),\n",
       " array([-31.72918389, -29.83684152]))"
      ]
     },
     "execution_count": 10,
     "metadata": {},
     "output_type": "execute_result"
    }
   ],
   "source": [
    "def Gradient_xy(f, x, y, h): \n",
    "    grad = np.array([0., 0.])\n",
    "    # su codigo aqui\n",
    "    \n",
    "    derivada_central_x= (f(x+h,y)-f(x-h,y))/(2*h)\n",
    "    derivada_central_y= (f(x,y+h)-f(x,y-h))/(2*h)\n",
    "    grad[0]=derivada_central_x\n",
    "    grad[1]=derivada_central_y\n",
    "    return grad\n",
    "\n",
    "# codigo para verificar su resultado no modificar\n",
    "Gradient_xy(Potential, 0, 0, 0.0001), Gradient_xy(Potential, 0.1, 0.05, 0.0001), Gradient_xy(Potential, -0.15, 0.12, 0.0001)"
   ]
  },
  {
   "cell_type": "markdown",
   "id": "uKEKtSXYOzLN",
   "metadata": {
    "id": "uKEKtSXYOzLN"
   },
   "source": [
    "c) Empezando en el punto $(x, y) = (0, 0.15)$ implemente el algoritmo de gradiente descendiente. Con pasos 683 pasos de $e = 0.0001$ para el gradiente descendiente y $h = 0.0001$ para la derivada central. Guarde la trayectoria en la variable `trayectory`\n",
    "\n",
    "El algoritmo gradiente descendiente tiene la siguiente forma\n",
    "\n",
    "\n",
    "\n",
    "```\n",
    "loss_function := Potential function that you wish to minimize\n",
    "min_value := initial_value\n",
    "e := the step size of the gradient descent\n",
    "num_steps := num of times that the GD looks for the minima\n",
    "\n",
    "\n",
    "for i in range(num_steps)\n",
    "  min_value = min_value - e * grad_loss_function(min_value)\n",
    "```\n",
    "\n",
    "Puede seguir el siguiente [notebook](https://github.com/diegour1/CompMetodosComputacionales/blob/main/Notebooks/08%20-%20Gradient_Descent_Neural_Networks.ipynb)\n",
    "\n",
    "\n"
   ]
  },
  {
   "cell_type": "code",
   "execution_count": 14,
   "id": "24EohIcKOg6Z",
   "metadata": {
    "colab": {
     "base_uri": "https://localhost:8080/"
    },
    "id": "24EohIcKOg6Z",
    "outputId": "f15d63dd-00ae-4c16-8e13-61751b456567"
   },
   "outputs": [
    {
     "name": "stdout",
     "output_type": "stream",
     "text": [
      "[0.22671271 0.02278046]\n"
     ]
    }
   ],
   "source": [
    "trayectory = []\n",
    "# su codigo aqui\n",
    "num_steps=680\n",
    "min_value=np.array([0,0.15])\n",
    "h=1e-4\n",
    "e=0.00001\n",
    "for i in range(num_steps):\n",
    "    min_value = min_value - e * Gradient_xy(Potential,min_value[0],min_value[1],h)\n",
    "    trayectory.append(min_value)\n",
    "# codigo para verificar su resultado no modificar\n",
    "print(trayectory[-1])"
   ]
  },
  {
   "cell_type": "markdown",
   "id": "mLfPrEKNUo9Q",
   "metadata": {
    "id": "mLfPrEKNUo9Q"
   },
   "source": [
    "d) Gráfique con la misma escala en x y y, las dos cargas y la trayectoria."
   ]
  },
  {
   "cell_type": "code",
   "execution_count": 51,
   "id": "IZUP7xcDQEZl",
   "metadata": {
    "colab": {
     "base_uri": "https://localhost:8080/",
     "height": 244
    },
    "id": "IZUP7xcDQEZl",
    "outputId": "c2b0e068-04a8-4888-ccda-40dad9a2d251"
   },
   "outputs": [
    {
     "data": {
      "text/plain": [
       "[<matplotlib.lines.Line2D at 0x1caa9df2920>]"
      ]
     },
     "execution_count": 51,
     "metadata": {},
     "output_type": "execute_result"
    },
    {
     "data": {
      "image/png": "[encoded data removed]",
      "text/plain": [
       "<Figure size 640x480 with 1 Axes>"
      ]
     },
     "metadata": {},
     "output_type": "display_data"
    }
   ],
   "source": [
    "# su codigo aqui\n",
    "trayectory=np.array(trayectory)\n",
    "X=trayectory[:,0]\n",
    "Y=trayectory[:,1]\n",
    "\n",
    "\n",
    "#draw.plot(r_mas, marker=\"o\", color=\"red\")\n",
    "plt.plot(-0.25,0,marker =\"o\",color='red')\n",
    "plt.plot(0.25,0, marker='o', color='black')\n",
    "plt.plot(X,Y)\n"
   ]
  },
  {
   "cell_type": "markdown",
   "id": "1P6GEJVQV1Oc",
   "metadata": {
    "id": "1P6GEJVQV1Oc"
   },
   "source": [
    "e) ¿Qué significa físicamente la trayectoria?"
   ]
  },
  {
   "cell_type": "markdown",
   "id": "f485de76",
   "metadata": {
    "id": "b65LMPwrloPT"
   },
   "source": [
    " \n",
    " La trayectoria de una particula positiva hacía otra particula negativa fija, y que a su vez esta siendo afectada por el campo eléctrico de la carga $q+$ y $-q$, siendo la trayectoria mostrada la linea de campo de q+ a q- desde el origen hasta -q."
   ]
  }
 ],
 "metadata": {
  "colab": {
   "provenance": []
  },
  "kernelspec": {
   "display_name": "Python 3 (ipykernel)",
   "language": "python",
   "name": "python3"
  },
  "language_info": {
   "codemirror_mode": {
    "name": "ipython",
    "version": 3
   },
   "file_extension": ".py",
   "mimetype": "text/x-python",
   "name": "python",
   "nbconvert_exporter": "python",
   "pygments_lexer": "ipython3",
   "version": "3.10.9"
  }
 },
 "nbformat": 4,
 "nbformat_minor": 5
}
